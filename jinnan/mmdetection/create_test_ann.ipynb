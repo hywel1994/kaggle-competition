{
 "cells": [
  {
   "cell_type": "code",
   "execution_count": 15,
   "metadata": {},
   "outputs": [],
   "source": [
    "import json\n",
    "import random\n",
    "import os\n",
    "import numpy as np\n",
    "from PIL import Image\n",
    "import cv2\n",
    "import matplotlib.pyplot as plt\n",
    "%matplotlib inline\n",
    "test_path = '/home/hywel/Documents/mmdetection/data/coco/test_b/'\n",
    "datasets_path = '/home/hywel/Documents/mmdetection/data/coco/annotations/'\n",
    "\n",
    "f = open('{}train_no_poly.json'.format(datasets_path) ,encoding='utf-8')\n",
    "gt = json.load(f)\n",
    "\n",
    "\n",
    "test = dict()\n",
    "\n",
    "test['info'] = gt['info']\n",
    "test['licenses'] = gt['licenses']\n",
    "test['categories'] = gt['categories']\n",
    "test['images'] = []\n",
    "test['annotations'] = []\n",
    "\n",
    "\n",
    "test_images = os.listdir(test_path)\n",
    "\n",
    "\n",
    "for i,image_name in enumerate(test_images):\n",
    "    image = Image.open(test_path+image_name)\n",
    "    (im_width, im_height) = image.size\n",
    "    \n",
    "    image_dict = {'coco_url': '',\n",
    "                 'data_captured': '',\n",
    "                 'file_name': image_name,\n",
    "                 'flickr_url': '',\n",
    "                 'id': i,\n",
    "                 'height': im_height,\n",
    "                 'width': im_width,\n",
    "                 'license': 1}\n",
    "#     print (image_dict)\n",
    "#     plt.figure(figsize=(12, 8))\n",
    "#     plt.imshow(image)\n",
    "#     plt.show()\n",
    "    test['images'].append(image_dict)"
   ]
  },
  {
   "cell_type": "code",
   "execution_count": 16,
   "metadata": {},
   "outputs": [],
   "source": [
    "with open(\"{}/test_b.json\".format(datasets_path), 'w', encoding='utf-8') as json_file:\n",
    "    json.dump(test, json_file, ensure_ascii=False)"
   ]
  },
  {
   "cell_type": "code",
   "execution_count": 17,
   "metadata": {},
   "outputs": [
    {
     "data": {
      "text/plain": [
       "3398"
      ]
     },
     "execution_count": 17,
     "metadata": {},
     "output_type": "execute_result"
    }
   ],
   "source": [
    "len(test['images'])"
   ]
  },
  {
   "cell_type": "code",
   "execution_count": null,
   "metadata": {},
   "outputs": [],
   "source": []
  }
 ],
 "metadata": {
  "kernelspec": {
   "display_name": "Python 3",
   "language": "python",
   "name": "python3"
  },
  "language_info": {
   "codemirror_mode": {
    "name": "ipython",
    "version": 3
   },
   "file_extension": ".py",
   "mimetype": "text/x-python",
   "name": "python",
   "nbconvert_exporter": "python",
   "pygments_lexer": "ipython3",
   "version": "3.6.2"
  }
 },
 "nbformat": 4,
 "nbformat_minor": 2
}
