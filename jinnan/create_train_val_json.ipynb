{
 "cells": [
  {
   "cell_type": "code",
   "execution_count": 17,
   "metadata": {},
   "outputs": [],
   "source": [
    "import json\n",
    "import numpy as np\n",
    "import random\n",
    "restrict_rele_path = '/home/hywel/Documents/maskrcnn-benchmark/datasets/coco/rest/'\n",
    "label_path = '/home/hywel/Documents/maskrcnn-benchmark/datasets/coco/annotations/train_argument.json'\n",
    "normal_rele_path = '/home/hywel/Documents/maskrcnn-benchmark/datasets/coco/normal/'\n",
    "#all_rele_path = '/home/hywel/Documents/maskrcnn-benchmark/datasets/coco/allimg/'\n",
    "import os\n",
    "import shutil\n",
    "from PIL import Image\n",
    "random.seed(10)"
   ]
  },
  {
   "cell_type": "code",
   "execution_count": 18,
   "metadata": {},
   "outputs": [],
   "source": [
    "def train_id(label_path):\n",
    "    with open(label_path, 'r') as load_f:\n",
    "        load_dict = json.load(load_f)\n",
    "        image_collect = load_dict['images']\n",
    "        image_num = len(image_collect)\n",
    "\n",
    "        train_img_id = list(range(image_num))\n",
    "        random.shuffle(train_img_id)\n",
    "        train_rate = 0.9\n",
    "        hight = int(image_num*train_rate)\n",
    "        train_img_id = train_img_id[0:hight]\n",
    "        train_img_id.sort()\n",
    "    return train_img_id\n",
    "\n",
    "def restrict_image_info(label_path,train_img_id,train):\n",
    "    with open(label_path, 'r') as load_f:\n",
    "        load_dict = json.load(load_f)\n",
    "        image_collect = load_dict['images']\n",
    "        image_num = len(image_collect)\n",
    "        anno_collect = load_dict['annotations']\n",
    "        anno_num = len(anno_collect)\n",
    "        delete_img = []\n",
    "        delete_ana = []\n",
    "        for i in range(image_num)[::-1]:\n",
    "            img_id = image_collect[i]['id']\n",
    "            if train:\n",
    "                if i not in train_img_id:\n",
    "                    delete_img.append(i)\n",
    "                    for j in range(anno_num):\n",
    "                        if anno_collect[j]['image_id'] == img_id:\n",
    "                            delete_ana.append(j)\n",
    "\n",
    "            else:\n",
    "                if i in train_img_id:\n",
    "                    delete_img.append(i)\n",
    "                    for j in range(anno_num):\n",
    "                        if anno_collect[j]['image_id'] == img_id:\n",
    "                            delete_ana.append(j)\n",
    "        delete_img.sort()\n",
    "        delete_ana.sort()\n",
    "        print (delete_img)\n",
    "        for k in delete_img[::-1]:\n",
    "            load_dict['images'].pop(k)\n",
    "        for k in delete_ana[::-1]:\n",
    "            load_dict['annotations'].pop(k) \n",
    "        \n",
    "                \n",
    "        #{\"coco_url\": \"\", \"data_captured\": \"\", \"file_name\": \"190127_152444_00178942.jpg\", \n",
    "        #  \"flickr_url\": \"\", \"id\": 11, \"height\": 491, \"width\": 635, \"license\": 1}\n",
    "        normal_img_list = os.listdir(normal_rele_path)\n",
    "        restrict_img_list = os.listdir(restrict_rele_path)\n",
    "        # max_id = 980\n",
    "        normal_id = 981\n",
    "        random.shuffle(normal_img_list)\n",
    "        for i in range(len(train_img_id)//2):\n",
    "            image_name = normal_img_list[i]\n",
    "            if image_name in restrict_img_list:\n",
    "                print ('same image name')\n",
    "                break\n",
    "                \n",
    "            oldname = normal_rele_path +'/' +image_name\n",
    "            newname = restrict_rele_path +'/' +image_name\n",
    "            \n",
    "            image = Image.open(oldname)\n",
    "            (im_width, im_height) = image.size\n",
    "            image_dict = {\"coco_url\": \"\", \"data_captured\": \"\", \"file_name\": image_name, \n",
    "                            \"flickr_url\": \"\", \"id\": normal_id, \"height\": im_height, \"width\": im_width, \"license\": 1}\n",
    "            normal_id += 1\n",
    "            load_dict['images'].append(image_dict)\n",
    "            \n",
    "            shutil.copyfile(oldname,newname)\n",
    "        \n",
    "        if train:\n",
    "            with open(\"train_all.json\",\"w\") as f:\n",
    "                json.dump(load_dict,f)\n",
    "                print(\"加载入文件完成...\")\n",
    "        else:\n",
    "            with open(\"val.json\",\"w\") as f:\n",
    "                json.dump(load_dict,f)\n",
    "                print(\"加载入文件完成...\")\n",
    "        "
   ]
  },
  {
   "cell_type": "code",
   "execution_count": 19,
   "metadata": {},
   "outputs": [],
   "source": [
    "#train_img_id = train_id(label_path)\n"
   ]
  },
  {
   "cell_type": "code",
   "execution_count": 20,
   "metadata": {},
   "outputs": [],
   "source": [
    "train_img_id = [0, 1, 2, 3, 4, 5, 6, 7, 8, 9, 10, 12, 13, 14, 16, 17, 18, 20, 21, 22, 23, 24, 25, 26, 27, 28, 29, 30, 31, 32, 33, 34, 35, 36, 37, 40, 41, 42, 43, 44, 46, 47, 48, 49, 50, 51, 52, 53, 54, 55, 56, 57, 59, 60, 61, 62, 63, 64, 65, 66, 67, 69, 70, 71, 72, 73, 74, 75, 76, 77, 78, 79, 80, 81, 82, 83, 84, 85, 86, 87, 88, 89, 90, 91, 92, 93, 94, 96, 97, 99, 100, 101, 102, 103, 104, 105, 106, 107, 108, 109, 110, 111, 112, 113, 114, 115, 117, 118, 119, 120, 121, 122, 124, 125, 126, 127, 128, 129, 130, 131, 132, 133, 134, 135, 136, 137, 138, 139, 140, 141, 143, 145, 146, 147, 148, 149, 150, 151, 153, 154, 155, 157, 158, 159, 160, 161, 162, 163, 164, 165, 166, 167, 168, 169, 171, 172, 174, 175, 177, 178, 179, 181, 182, 183, 184, 185, 186, 187, 188, 190, 191, 192, 193, 194, 195, 196, 197, 198, 199, 200, 201, 202, 203, 204, 205, 206, 207, 208, 209, 210, 211, 212, 213, 214, 215, 216, 217, 218, 219, 220, 221, 222, 223, 224, 225, 227, 228, 229, 230, 231, 232, 233, 234, 235, 236, 237, 239, 240, 241, 242, 243, 244, 245, 246, 249, 251, 252, 254, 255, 256, 257, 258, 259, 260, 261, 262, 263, 264, 265, 267, 268, 270, 271, 273, 274, 275, 276, 277, 279, 280, 281, 282, 283, 284, 285, 286, 287, 288, 289, 290, 292, 293, 294, 295, 296, 297, 298, 299, 300, 301, 302, 303, 304, 305, 306, 307, 308, 309, 310, 311, 312, 313, 314, 315, 316, 317, 318, 319, 320, 321, 324, 325, 326, 327, 328, 329, 330, 331, 332, 333, 334, 335, 336, 337, 338, 339, 340, 341, 342, 343, 344, 346, 347, 349, 350, 352, 353, 354, 355, 356, 357, 358, 359, 360, 361, 363, 364, 365, 366, 367, 368, 369, 370, 371, 372, 373, 374, 375, 376, 377, 378, 379, 380, 381, 382, 383, 384, 385, 386, 387, 388, 389, 390, 391, 392, 393, 396, 397, 399, 403, 404, 405, 406, 407, 408, 409, 411, 412, 413, 414, 415, 416, 417, 418, 419, 420, 421, 422, 423, 425, 426, 427, 428, 429, 430, 431, 432, 434, 435, 436, 437, 438, 440, 441, 442, 444, 445, 446, 447, 448, 449, 450, 452, 453, 454, 455, 456, 457, 458, 459, 460, 461, 462, 463, 464, 465, 466, 467, 468, 469, 470, 471, 472, 473, 475, 476, 477, 478, 479, 480, 481, 482, 483, 484, 486, 487, 488, 489, 490, 491, 492, 493, 494, 495, 496, 498, 499, 500, 502, 503, 504, 505, 506, 507, 508, 509, 510, 511, 512, 513, 514, 515, 516, 517, 518, 519, 520, 521, 522, 523, 524, 525, 526, 528, 529, 530, 531, 532, 534, 536, 537, 538, 539, 540, 541, 542, 543, 544, 545, 546, 547, 548, 549, 550, 551, 552, 553, 555, 556, 557, 558, 559, 560, 561, 562, 563, 564, 565, 566, 567, 568, 569, 570, 571, 572, 573, 574, 575, 576, 577, 578, 579, 580, 581, 582, 583, 584, 585, 586, 587, 589, 591, 592, 593, 595, 596, 597, 598, 600, 601, 602, 603, 604, 605, 606, 608, 609, 610, 611, 612, 613, 614, 615, 616, 617, 619, 620, 622, 623, 625, 626, 628, 629, 630, 631, 633, 634, 635, 636, 638, 639, 641, 642, 643, 644, 645, 646, 647, 648, 649, 650, 651, 652, 653, 654, 655, 656, 657, 658, 659, 660, 661, 662, 663, 664, 665, 666, 667, 668, 669, 670, 671, 672, 673, 674, 675, 677, 678, 679, 680, 681, 682, 683, 684, 685, 686, 687, 688, 689, 690, 691, 694, 695, 696, 697, 698, 699, 700, 702, 703, 704, 705, 706, 707, 708, 709, 710, 711, 712, 713, 714, 715, 716, 717, 718, 719, 720, 721, 722, 723, 724, 727, 728, 729, 730, 732, 733, 735, 737, 738, 739, 740, 741, 742, 743, 744, 745, 746, 748, 749, 750, 751, 752, 753, 754, 755, 756, 757, 759, 760, 761, 762, 763, 764, 765, 766, 767, 768, 770, 771, 772, 773, 774, 775, 776, 777, 778, 779, 780, 781, 782, 783, 784, 785, 786, 787, 788, 789, 790, 791, 792, 793, 794, 795, 798, 799, 800, 801, 802, 803, 804, 805, 806, 807, 808, 809, 810, 812, 813, 814, 815, 816, 817, 819, 820, 822, 823, 824, 825, 826, 827, 828, 829, 830, 832, 833, 834, 835, 836, 837, 838, 839, 840, 841, 842, 843, 844, 845, 846, 847, 848, 850, 851, 852, 853, 854, 855, 856, 857, 858, 859, 860, 861, 862, 863, 864, 865, 867, 868, 869, 870, 871, 872, 874, 875, 876, 877, 879, 880, 881, 882, 883, 884, 886, 887, 888, 889, 890, 891, 892, 893, 894, 895, 896, 897, 898, 899, 900, 901, 902, 903, 904, 906, 907, 908, 909, 910, 912, 913, 914, 915, 916, 917, 918, 919, 920, 921, 922, 923, 924, 925, 926, 927, 928, 929, 930, 931, 932, 933, 934, 935, 936, 937, 938, 939, 941, 942, 943, 944, 945, 946, 947, 948, 949, 950, 951, 952, 954, 955, 956, 957, 958, 959, 960, 961, 963, 964, 965, 966, 968, 969, 970, 971, 972, 973, 974, 975, 976, 977, 978, 979, 980]"
   ]
  },
  {
   "cell_type": "code",
   "execution_count": 21,
   "metadata": {},
   "outputs": [
    {
     "name": "stdout",
     "output_type": "stream",
     "text": [
      "[11, 15, 19, 38, 39, 45, 58, 68, 95, 98, 116, 123, 142, 144, 152, 156, 170, 173, 176, 180, 189, 226, 238, 247, 248, 250, 253, 266, 269, 272, 278, 291, 322, 323, 345, 348, 351, 362, 394, 395, 398, 400, 401, 402, 410, 424, 433, 439, 443, 451, 474, 485, 497, 501, 527, 533, 535, 554, 588, 590, 594, 599, 607, 618, 621, 624, 627, 632, 637, 640, 676, 692, 693, 701, 725, 726, 731, 734, 736, 747, 758, 769, 796, 797, 811, 818, 821, 831, 849, 866, 873, 878, 885, 905, 911, 940, 953, 962, 967]\n",
      "加载入文件完成...\n"
     ]
    }
   ],
   "source": [
    "#restrict_image_info(label_path,train_img_id,False)\n",
    "#restrict_image_info(label_path,train_img_id,True)"
   ]
  },
  {
   "cell_type": "code",
   "execution_count": 4,
   "metadata": {},
   "outputs": [
    {
     "data": {
      "text/plain": [
       "882"
      ]
     },
     "execution_count": 4,
     "metadata": {},
     "output_type": "execute_result"
    }
   ],
   "source": [
    "len(train_img_id)"
   ]
  },
  {
   "cell_type": "code",
   "execution_count": null,
   "metadata": {},
   "outputs": [],
   "source": []
  }
 ],
 "metadata": {
  "kernelspec": {
   "display_name": "Python 3",
   "language": "python",
   "name": "python3"
  },
  "language_info": {
   "codemirror_mode": {
    "name": "ipython",
    "version": 3
   },
   "file_extension": ".py",
   "mimetype": "text/x-python",
   "name": "python",
   "nbconvert_exporter": "python",
   "pygments_lexer": "ipython3",
   "version": "3.6.2"
  }
 },
 "nbformat": 4,
 "nbformat_minor": 2
}
