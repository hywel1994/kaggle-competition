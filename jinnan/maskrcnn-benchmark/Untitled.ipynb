{
 "cells": [
  {
   "cell_type": "code",
   "execution_count": 5,
   "metadata": {},
   "outputs": [],
   "source": [
    "import os\n",
    "import time\n",
    "import json\n",
    "import cv2\n",
    "from skimage.io import imsave\n",
    "import numpy as np\n",
    "from PIL import Image\n",
    "import torch\n",
    "from torchvision.transforms import functional as F\n"
   ]
  },
  {
   "cell_type": "code",
   "execution_count": 6,
   "metadata": {},
   "outputs": [],
   "source": [
    "image = '/home/hywel/Documents/maskrcnn-benchmark/datasets/coco/restricted/190109_180343_00154162.jpg'"
   ]
  },
  {
   "cell_type": "code",
   "execution_count": 16,
   "metadata": {},
   "outputs": [],
   "source": [
    "a = torch.randn(5, 4)\n",
    "b = torch.randn(3, 4) \n",
    "c = [a,b] "
   ]
  },
  {
   "cell_type": "code",
   "execution_count": 17,
   "metadata": {},
   "outputs": [
    {
     "data": {
      "text/plain": [
       "tensor([[ 0.4823, -0.6029, -1.1229,  2.0618],\n",
       "        [-0.7822,  0.3828,  2.7564,  0.0151],\n",
       "        [-0.9441,  1.1970,  0.5694, -0.1577],\n",
       "        [-1.3669,  0.9447, -1.3999,  0.1145],\n",
       "        [ 0.1918,  0.9042, -0.2347,  2.1393],\n",
       "        [ 0.9140,  0.0925, -0.4290,  0.7432],\n",
       "        [ 0.6056, -0.5662, -2.0235, -1.6594],\n",
       "        [-0.7654,  0.6342, -0.9653, -0.7838]])"
      ]
     },
     "execution_count": 17,
     "metadata": {},
     "output_type": "execute_result"
    }
   ],
   "source": [
    "torch.cat(c,0)"
   ]
  },
  {
   "cell_type": "code",
   "execution_count": 29,
   "metadata": {},
   "outputs": [
    {
     "data": {
      "text/plain": [
       "tensor([[ 0.4823, -0.6029, -1.1229,  2.0618],\n",
       "        [-0.9441,  1.1970,  0.5694, -0.1577]])"
      ]
     },
     "execution_count": 29,
     "metadata": {},
     "output_type": "execute_result"
    }
   ],
   "source": [
    "tmp = [0, 2]\n",
    "indices = torch.tensor(tmp)\n",
    "\n",
    "torch.index_select(a,0,indices)\n"
   ]
  },
  {
   "cell_type": "code",
   "execution_count": 19,
   "metadata": {},
   "outputs": [
    {
     "data": {
      "text/plain": [
       "tensor([[ 0.4823, -0.6029, -1.1229,  2.0618],\n",
       "        [-0.7822,  0.3828,  2.7564,  0.0151],\n",
       "        [-0.9441,  1.1970,  0.5694, -0.1577],\n",
       "        [-1.3669,  0.9447, -1.3999,  0.1145],\n",
       "        [ 0.1918,  0.9042, -0.2347,  2.1393]])"
      ]
     },
     "execution_count": 19,
     "metadata": {},
     "output_type": "execute_result"
    }
   ],
   "source": [
    "a"
   ]
  },
  {
   "cell_type": "code",
   "execution_count": null,
   "metadata": {},
   "outputs": [],
   "source": []
  }
 ],
 "metadata": {
  "kernelspec": {
   "display_name": "Python 3",
   "language": "python",
   "name": "python3"
  },
  "language_info": {
   "codemirror_mode": {
    "name": "ipython",
    "version": 3
   },
   "file_extension": ".py",
   "mimetype": "text/x-python",
   "name": "python",
   "nbconvert_exporter": "python",
   "pygments_lexer": "ipython3",
   "version": "3.6.8"
  }
 },
 "nbformat": 4,
 "nbformat_minor": 2
}
