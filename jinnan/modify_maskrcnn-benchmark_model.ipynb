{
 "cells": [
  {
   "cell_type": "code",
   "execution_count": 2,
   "metadata": {},
   "outputs": [],
   "source": [
    "import torch"
   ]
  },
  {
   "cell_type": "code",
   "execution_count": 8,
   "metadata": {},
   "outputs": [],
   "source": [
    "\n",
    "model = torch.load(\"/home/hywel/Documents/maskrcnn-benchmark/models/e2e_faster_rcnn_X_101_32x8d_FPN_1x.pth\")\n",
    "#Remove the previous training parameters. \n",
    "del model['iteration']\n",
    "del model['scheduler']\n",
    "del model['optimizer']\n",
    "# Remove the output layers in COCO, these are the mismatched layers you saw.\n",
    "#Second stage prediction\n",
    "del model[\"model\"][\"module.roi_heads.box.predictor.cls_score.weight\"]\n",
    "del model[\"model\"][\"module.roi_heads.box.predictor.cls_score.bias\"]\n",
    "del model[\"model\"][\"module.roi_heads.box.predictor.bbox_pred.weight\"]\n",
    "del model[\"model\"][\"module.roi_heads.box.predictor.bbox_pred.bias\"]\n",
    "#RPN\n",
    "del model[\"model\"][\"module.rpn.head.cls_logits.weight\"]\n",
    "del model[\"model\"][\"module.rpn.head.cls_logits.bias\"]\n",
    "del model[\"model\"][\"module.rpn.head.bbox_pred.weight\"]\n",
    "del model[\"model\"][\"module.rpn.head.bbox_pred.bias\"]\n",
    "#save the model\n",
    "torch.save(model, \"/home/hywel/Documents/maskrcnn-benchmark/models/faster_rcnn_X_101_32x8d_FPN_1x_modified_model.pth\")"
   ]
  },
  {
   "cell_type": "code",
   "execution_count": null,
   "metadata": {},
   "outputs": [],
   "source": []
  }
 ],
 "metadata": {
  "kernelspec": {
   "display_name": "Python 3",
   "language": "python",
   "name": "python3"
  },
  "language_info": {
   "codemirror_mode": {
    "name": "ipython",
    "version": 3
   },
   "file_extension": ".py",
   "mimetype": "text/x-python",
   "name": "python",
   "nbconvert_exporter": "python",
   "pygments_lexer": "ipython3",
   "version": "3.6.8"
  }
 },
 "nbformat": 4,
 "nbformat_minor": 2
}
